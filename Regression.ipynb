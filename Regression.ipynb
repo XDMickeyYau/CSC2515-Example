{
  "cells": [
    {
      "cell_type": "code",
      "execution_count": 61,
      "metadata": {
        "id": "I32IfzcjXzT6"
      },
      "outputs": [],
      "source": [
        "import numpy as np\n",
        "import pandas as pd\n",
        "import matplotlib.pyplot as plt"
      ]
    },
    {
      "cell_type": "code",
      "source": [
        "#prepare data\n",
        "x = np.arange(0,100,1)\n",
        "t = 5*x + np.random.normal(0,20,100)+70\n",
        "x = x.reshape(-1,1)\n",
        "print(x.shape, t.shape)"
      ],
      "metadata": {
        "id": "wheClhwNXzyr",
        "outputId": "f8e9c55e-4175-4a62-bb5d-a9e832375c8f",
        "colab": {
          "base_uri": "https://localhost:8080/"
        }
      },
      "execution_count": 62,
      "outputs": [
        {
          "output_type": "stream",
          "name": "stdout",
          "text": [
            "(100, 1) (100,)\n"
          ]
        }
      ]
    },
    {
      "cell_type": "code",
      "source": [
        "#linear regression\n",
        "from sklearn import linear_model\n",
        "linear = linear_model.LinearRegression()\n",
        "linear.fit(x,t)\n",
        "linear.coef_, linear.intercept_"
      ],
      "metadata": {
        "id": "p28QsitLYiY6",
        "outputId": "a63eafa0-7a1d-48c0-e73b-f9f06cf31ade",
        "colab": {
          "base_uri": "https://localhost:8080/"
        }
      },
      "execution_count": 63,
      "outputs": [
        {
          "output_type": "execute_result",
          "data": {
            "text/plain": [
              "(array([5.02826171]), 64.83254555932282)"
            ]
          },
          "metadata": {},
          "execution_count": 63
        }
      ]
    },
    {
      "cell_type": "code",
      "source": [
        "#evaluate\n",
        "from sklearn.metrics import mean_squared_error\n",
        "y = linear.predict(x)\n",
        "mean_squared_error(t,y)"
      ],
      "metadata": {
        "id": "RnqhITN2aMfF",
        "outputId": "152e2c3d-6f43-4324-aa02-3ddc4a8b9e7d",
        "colab": {
          "base_uri": "https://localhost:8080/"
        }
      },
      "execution_count": 64,
      "outputs": [
        {
          "output_type": "execute_result",
          "data": {
            "text/plain": [
              "469.71104452550054"
            ]
          },
          "metadata": {},
          "execution_count": 64
        }
      ]
    },
    {
      "cell_type": "code",
      "source": [
        "#visualize\n",
        "plt.scatter(x,t,color=\"red\")\n",
        "plt.plot(x,y,color=\"blue\")\n",
        "plt.show()"
      ],
      "metadata": {
        "id": "sk3AE8hSZDwZ",
        "outputId": "84fccf23-dbbf-4571-e01f-f01a5b64144b",
        "colab": {
          "base_uri": "https://localhost:8080/",
          "height": 265
        }
      },
      "execution_count": 65,
      "outputs": [
        {
          "output_type": "display_data",
          "data": {
            "text/plain": [
              "<Figure size 432x288 with 1 Axes>"
            ],
            "image/png": "[encoded data removed]"
          },
          "metadata": {
            "needs_background": "light"
          }
        }
      ]
    },
    {
      "cell_type": "code",
      "source": [
        "#SVM regression\n",
        "from sklearn import svm\n",
        "svm = svm.SVR()\n",
        "svm.fit(x,t)\n",
        "svm"
      ],
      "metadata": {
        "id": "d7UzBlOYacew",
        "outputId": "a53d7948-03ad-4f67-8e74-ea40b726d492",
        "colab": {
          "base_uri": "https://localhost:8080/"
        }
      },
      "execution_count": 66,
      "outputs": [
        {
          "output_type": "execute_result",
          "data": {
            "text/plain": [
              "SVR()"
            ]
          },
          "metadata": {},
          "execution_count": 66
        }
      ]
    },
    {
      "cell_type": "code",
      "source": [
        "#evaluate\n",
        "y = svm.predict(x)\n",
        "mean_squared_error(t,y)"
      ],
      "metadata": {
        "id": "Ifz3ObjwcY2u",
        "outputId": "f0c19df7-c7fb-4e88-f11f-fbbaa7640d6b",
        "colab": {
          "base_uri": "https://localhost:8080/"
        }
      },
      "execution_count": 67,
      "outputs": [
        {
          "output_type": "execute_result",
          "data": {
            "text/plain": [
              "15021.866900635532"
            ]
          },
          "metadata": {},
          "execution_count": 67
        }
      ]
    },
    {
      "cell_type": "code",
      "source": [
        "#visualize\n",
        "plt.scatter(x,t,color=\"red\")\n",
        "plt.plot(x,y,color=\"blue\")\n",
        "plt.show()"
      ],
      "metadata": {
        "id": "Qi0ufEFgcf7C",
        "outputId": "f0727898-4fc4-4db9-cd07-ba40c167bb8b",
        "colab": {
          "base_uri": "https://localhost:8080/",
          "height": 265
        }
      },
      "execution_count": 68,
      "outputs": [
        {
          "output_type": "display_data",
          "data": {
            "text/plain": [
              "<Figure size 432x288 with 1 Axes>"
            ],
            "image/png": "[encoded data removed]"
          },
          "metadata": {
            "needs_background": "light"
          }
        }
      ]
    },
    {
      "cell_type": "code",
      "source": [],
      "metadata": {
        "id": "zcO_RXBBdFNa"
      },
      "execution_count": null,
      "outputs": []
    }
  ],
  "metadata": {
    "kernelspec": {
      "display_name": "UTMIST_WS",
      "language": "python",
      "name": "python3"
    },
    "language_info": {
      "name": "python",
      "version": "3.8.13 (default, Mar 28 2022, 06:13:39) \n[Clang 12.0.0 ]"
    },
    "orig_nbformat": 4,
    "vscode": {
      "interpreter": {
        "hash": "c12bbc5d3d0a4bbb0197f1a15b43129c9e780fea83df430f2ddf23c8ab8db2ce"
      }
    },
    "colab": {
      "provenance": []
    }
  },
  "nbformat": 4,
  "nbformat_minor": 0
}